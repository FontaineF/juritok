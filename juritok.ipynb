{
 "cells": [
  {
   "cell_type": "markdown",
   "metadata": {},
   "source": [
    "Pistes :\n",
    "- Trouver d'autres paramètres avec lesquels jouer"
   ]
  },
  {
   "cell_type": "code",
   "execution_count": 1,
   "metadata": {},
   "outputs": [
    {
     "name": "stdout",
     "output_type": "stream",
     "text": [
      "        JORFTEXT000048734585            Unnamed: 1  0 Unnamed: 3  0.1  \\\n",
      "0       JORFTEXT000048734585  JORFVERS000048734585  0        NaN    0   \n",
      "1       JORFTEXT000048734585  JORFARTI000048734586  1          1    1   \n",
      "2       JORFTEXT000048734585  JORFARTI000048734586  1          1    2   \n",
      "3       JORFTEXT000048734585  JORFARTI000048734586  1          1    3   \n",
      "4       JORFTEXT000048734585  JORFARTI000048734586  1          1    4   \n",
      "...                      ...                   ... ..        ...  ...   \n",
      "454295  JORFTEXT000046851183  JORFVERS000046851183  0        NaN    0   \n",
      "454296  JORFTEXT000046851183  JORFARTI000046851184  1        NaN    1   \n",
      "454297  JORFTEXT000046851186                   NaN  0        NaN    0   \n",
      "454298  JORFTEXT000046851186  JORFVERS000046851186  0        NaN    0   \n",
      "454299  JORFTEXT000046851186  JORFARTI000046851187  1        NaN    1   \n",
      "\n",
      "                           fr/lr/loi/2023-1380/2023-12-31  \n",
      "0       LOI n° 2023-1380 du 30 décembre 2023 visant à ...  \n",
      "1       I. — Après l'article L. 2122-19 du code généra...  \n",
      "2       « Art. L. 2122-19-1. — Pour assurer les foncti...  \n",
      "3       II. — L'article L. 2122-19-1 du code général d...  \n",
      "4       « Art. L. 2122-19-1. — Pour assurer les foncti...  \n",
      "...                                                   ...  \n",
      "454295  Arrêté du 30 décembre 2022 portant admission à...  \n",
      "454296  Par arrêté du garde des sceaux, ministre de la...  \n",
      "454297               fr/lr/arrete/TREL2234954A/2023-01-01  \n",
      "454298  Arrêté du 22 décembre 2022 portant nomination ...  \n",
      "454299  Par arrêté du ministre de la transition écolog...  \n",
      "\n",
      "[454300 rows x 6 columns]\n"
     ]
    }
   ],
   "source": [
    "import sentencepiece as spm\n",
    "import pandas as pd\n",
    "\n",
    "# Spécifiez le chemin vers votre fichier CSV\n",
    "chemin_fichier_csv = 'jorf_2023.csv'\n",
    "\n",
    "# Spécifiez le séparateur (dans ce cas, '|')\n",
    "separateur = '|'\n",
    "\n",
    "# Utilisez Pandas pour lire le fichier CSV dans un DataFrame\n",
    "df = pd.read_csv(chemin_fichier_csv, sep=separateur)\n",
    "\n",
    "# Affichez le DataFrame\n",
    "print(df)\n"
   ]
  },
  {
   "cell_type": "code",
   "execution_count": 2,
   "metadata": {},
   "outputs": [
    {
     "name": "stdout",
     "output_type": "stream",
     "text": [
      "Texte extrait : de texte «à extraire» avec des guillemets «pour tester»».\n",
      "Texte extrait : Ceci est un exemple \n"
     ]
    }
   ],
   "source": [
    "import re\n",
    "\n",
    "def extraire_texte_entre_symboles(texte):\n",
    "    # Utilisez une expression régulière pour extraire le texte entre '«' et '»'\n",
    "    #match = re.search(r'«(.+)»', texte)\n",
    "    match = re.search(r'«(.+)', texte) # Beaucoup de phrases n'ont pas le '»' nécessaire\n",
    "    \n",
    "    # Vérifiez si une correspondance a été trouvée\n",
    "    if match:\n",
    "        texte_extrait = match.group(1)\n",
    "        return texte_extrait\n",
    "    else:\n",
    "        return None\n",
    "\n",
    "def extraire_texte_en_dehors_des_symboles(texte):\n",
    "    # Utilisez une expression régulière pour extraire le texte entre '«' et '»'\n",
    "    match = re.search(r'^[^«]+', texte)\n",
    "    \n",
    "    # Vérifiez si une correspondance a été trouvée\n",
    "    if match:\n",
    "        texte_extrait = match.group(0)\n",
    "        return texte_extrait\n",
    "    else:\n",
    "        return None\n",
    "\n",
    "# Exemple d'utilisation\n",
    "ma_chaine = \"Ceci est un exemple «de texte «à extraire» avec des guillemets «pour tester»».\"\n",
    "resultat = extraire_texte_entre_symboles(ma_chaine)\n",
    "\n",
    "if resultat:\n",
    "    print(\"Texte extrait :\", resultat)\n",
    "else:\n",
    "    print(\"Aucun texte trouvé entre les symboles '«' et '»'.\")\n",
    "    \n",
    "resultat = extraire_texte_en_dehors_des_symboles(ma_chaine)\n",
    "\n",
    "if resultat:\n",
    "    print(\"Texte extrait :\", resultat)\n",
    "else:\n",
    "    print(\"Aucun texte trouvé en dehors des symboles '«' et '»'.\")\n",
    "\n"
   ]
  },
  {
   "cell_type": "code",
   "execution_count": 3,
   "metadata": {},
   "outputs": [],
   "source": [
    "# Création des colonnes ne contenant que les textes relatifs au Droit/non Droit\n",
    "df['droit'] = df['fr/lr/loi/2023-1380/2023-12-31'].apply(extraire_texte_entre_symboles)\n",
    "df['non_droit'] = df['fr/lr/loi/2023-1380/2023-12-31'].apply(extraire_texte_en_dehors_des_symboles)\n"
   ]
  },
  {
   "cell_type": "code",
   "execution_count": 5,
   "metadata": {},
   "outputs": [],
   "source": [
    "# Ecrire l'ensemble du contenu dans un fichier texte\n",
    "with open(\"input_data/jorf_2023.txt\",\"w\") as f:\n",
    "    f.writelines(\"\\n\".join(df[\"fr/lr/loi/2023-1380/2023-12-31\"].to_list()))\n",
    "    \n",
    "# On extrait que le Droit : entre guillemets\n",
    "with open(\"./input_data/jorf_2023_droit.txt\",\"w\") as f:\n",
    "    data = \"\\n\".join(df[\"droit\"].dropna().to_list())\n",
    "    f.writelines(data)\n",
    "    \n",
    "# On extrait que ce qui entoure le Droit\n",
    "with open(\"./input_data/jorf_2023_non_droit.txt\",\"w\") as f:\n",
    "    data = \"\\n\".join(df[\"non_droit\"].dropna().to_list())\n",
    "    f.writelines(data)"
   ]
  },
  {
   "cell_type": "markdown",
   "metadata": {},
   "source": [
    "    A. Nombre de tokens"
   ]
  },
  {
   "cell_type": "code",
   "execution_count": 6,
   "metadata": {},
   "outputs": [],
   "source": [
    "for n in (100,1000,10000):\n",
    "    spm.SentencePieceTrainer.train(input='./input_data/jorf_2023.txt', model_prefix=f'./models/{n}_tokens', vocab_size=n)"
   ]
  },
  {
   "cell_type": "code",
   "execution_count": 7,
   "metadata": {},
   "outputs": [
    {
     "name": "stdout",
     "output_type": "stream",
     "text": [
      "Avec 100 tokens :\n",
      "['▁', 'D', 'é', 'c', 're', 't', '▁d', 'u', '▁', '2', '9', '▁d', 'é', 'c', 'e', 'm', 'b', 're', '▁', '2', '0', '2', '3', '▁', 'p', 'o', 'r', 't', 'a', 'n', 't', '▁', 'p', 'r', 'o', 'm', 'o', 't', 'i', 'o', 'n', '▁d', 'a', 'n', 's', '▁', 'l', \"'\", 'o', 'r', 'd', 're', '▁', 'n', 'a', 't', 'i', 'o', 'n', 'a', 'l', '▁de', '▁', 'l', 'a', '▁', 'L', 'é', 'g', 'i', 'o', 'n', '▁d', \"'\", 'h', 'o', 'n', 'n', 'e', 'u', 'r']\n",
      "Avec 1000 tokens :\n",
      "['▁Décret', '▁du', '▁2', '9', '▁décembre', '▁2023', '▁portant', '▁pro', 'mo', 'tion', '▁dans', '▁l', \"'\", 'ord', 're', '▁national', '▁de', '▁la', '▁L', 'é', 'g', 'ion', '▁d', \"'\", 'h', 'onne', 'ur']\n",
      "Avec 10000 tokens :\n",
      "['▁Décret', '▁du', '▁29', '▁décembre', '▁2023', '▁portant', '▁promotion', '▁dans', '▁l', \"'\", 'ordre', '▁national', '▁de', '▁la', '▁Légion', '▁d', \"'\", 'honneur']\n"
     ]
    }
   ],
   "source": [
    "# On encode une phrase selon les différents modèles : 100 tokens appara^t clairement insuffisant\n",
    "for n in [100,1000,10000]:\n",
    "    sp = spm.SentencePieceProcessor(model_file=f'./models/{n}_tokens.model')\n",
    "    print(f\"Avec {n} tokens :\")\n",
    "    print(sp.EncodeAsPieces(\"Décret du 29 décembre 2023 portant promotion dans l'ordre national de la Légion d'honneur\"))"
   ]
  },
  {
   "cell_type": "markdown",
   "metadata": {},
   "source": [
    "100 tokens sont bien sur insuffisants pour intélligement traiter ce lexique. Avec 1000 tokens on a encore quelques mots qu'on s'attendrait à voir pris dans l'intégralité et pourtant découpés, comme 'Légion' et 'honneur'. Avec 10000 tokens, la tokénisation est presque trop ample, en prenant '29' comme un token en soit."
   ]
  },
  {
   "cell_type": "markdown",
   "metadata": {},
   "source": [
    "    B. Droit/non droit"
   ]
  },
  {
   "cell_type": "code",
   "execution_count": 8,
   "metadata": {},
   "outputs": [],
   "source": [
    "spm.SentencePieceTrainer.train(input='./input_data/jorf_2023_droit.txt', model_prefix='./models/droit', vocab_size=1000)\n",
    "spm.SentencePieceTrainer.train(input='./input_data/jorf_2023_non_droit.txt', model_prefix='./models/non_droit', vocab_size=1000)"
   ]
  },
  {
   "cell_type": "code",
   "execution_count": 9,
   "metadata": {},
   "outputs": [
    {
     "name": "stdout",
     "output_type": "stream",
     "text": [
      "« L'exonération est attribuée ou retirée dans les conditions prévues aux articles R. 5553-1 et R. 5553-2. »\n",
      "['▁«', '▁L', \"'\", 'ex', 'on', 'é', 'r', 'ation', '▁est', '▁', 'att', 'ri', 'b', 'u', 'ée', '▁ou', '▁re', 'ti', 'ré', 'e', '▁dans', '▁les', '▁conditions', '▁prévues', '▁aux', '▁articles', '▁R', '.', '▁5', '5', '5', '3-1', '▁et', '▁R', '.', '▁5', '5', '5', '3', '-2', '.', '▁»']\n",
      "['▁', '«', '▁L', \"'\", 'ex', 'on', 'é', 'r', 'ation', '▁est', '▁', 'at', 't', 'ri', 'b', 'u', 'ée', '▁ou', '▁re', 'ti', 'ré', 'e', '▁dans', '▁les', '▁conditions', '▁prévu', 'es', '▁aux', '▁articles', '▁R', '.', '▁5', '5', '5', '3', '-1', '▁et', '▁R', '.', '▁5', '5', '5', '3', '-', '2', '.', '▁', '»']\n",
      "\n",
      "\n",
      "Arrêté du 26 décembre 2023 relatif aux prix des prestations d'hébergement de certains établissements accueillant des personnes âgées\n",
      "['▁A', 'r', 'r', 'ê', 'té', '▁du', '▁2', '6', '▁décembre', '▁2023', '▁relatif', '▁aux', '▁p', 'ri', 'x', '▁des', '▁prestation', 's', '▁d', \"'\", 'h', 'é', 'b', 'er', 'g', 'ement', '▁de', '▁c', 'er', 't', 'ain', 's', '▁établissements', '▁', 'accueil', 'l', 'ant', '▁des', '▁personnes', '▁', 'â', 'g', 'ées']\n",
      "['▁Arrêté', '▁du', '▁', '26', '▁décembre', '▁2023', '▁relatif', '▁aux', '▁', 'pr', 'ix', '▁des', '▁', 'pr', 'est', 'ation', 's', '▁d', \"'\", 'h', 'é', 'b', 'er', 'g', 'ement', '▁de', '▁certain', 's', '▁', 'établissement', 's', '▁', 'accueil', 'l', 'ant', '▁des', '▁personne', 's', '▁', 'â', 'g', 'ées']\n",
      "\n",
      "\n"
     ]
    }
   ],
   "source": [
    "sp1 = spm.SentencePieceProcessor(model_file=f'./models/droit.model')\n",
    "sp2 = spm.SentencePieceProcessor(model_file=f'./models/non_droit.model')\n",
    "\n",
    "# Comparaison de la tokenisation d'une phrase de droit et d'une non de Droit \n",
    "s1 = \"« L'exonération est attribuée ou retirée dans les conditions prévues aux articles R. 5553-1 et R. 5553-2. »\"\n",
    "s2 = \"Arrêté du 26 décembre 2023 relatif aux prix des prestations d'hébergement de certains établissements accueillant des personnes âgées\"\n",
    "\n",
    "for s in [s1,s2]:\n",
    "    print(s)\n",
    "    for sp in [sp1,sp2]:\n",
    "        print(sp.EncodeAsPieces(s))\n",
    "    print(\"\\n\")"
   ]
  },
  {
   "cell_type": "markdown",
   "metadata": {},
   "source": [
    "Les tokenisations Droit/Non Droit ont chacune adopté des tokens adaptés à leur vocabuaire, comme par exemple 'attribué'/'Arrêté'"
   ]
  }
 ],
 "metadata": {
  "kernelspec": {
   "display_name": "base",
   "language": "python",
   "name": "python3"
  },
  "language_info": {
   "codemirror_mode": {
    "name": "ipython",
    "version": 3
   },
   "file_extension": ".py",
   "mimetype": "text/x-python",
   "name": "python",
   "nbconvert_exporter": "python",
   "pygments_lexer": "ipython3",
   "version": "3.11.7"
  }
 },
 "nbformat": 4,
 "nbformat_minor": 2
}
